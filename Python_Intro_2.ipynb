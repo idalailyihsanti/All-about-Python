{
  "nbformat": 4,
  "nbformat_minor": 0,
  "metadata": {
    "colab": {
      "name": "Python Intro 2.ipynb",
      "provenance": [],
      "authorship_tag": "ABX9TyPHPjvFue2YvTS6q2CiC9ci",
      "include_colab_link": true
    },
    "kernelspec": {
      "name": "python3",
      "display_name": "Python 3"
    },
    "language_info": {
      "name": "python"
    }
  },
  "cells": [
    {
      "cell_type": "markdown",
      "metadata": {
        "id": "view-in-github",
        "colab_type": "text"
      },
      "source": [
        "<a href=\"https://colab.research.google.com/github/idalailyihsanti/All-about-Python/blob/main/Python_Intro_2.ipynb\" target=\"_parent\"><img src=\"https://colab.research.google.com/assets/colab-badge.svg\" alt=\"Open In Colab\"/></a>"
      ]
    },
    {
      "cell_type": "markdown",
      "source": [
        "# Collection Manipulation\n",
        "\n",
        "Part 1 - Mengakses List dan Tuple\n",
        "\n",
        "Mengakses dengan indeks negatif [-4] maka akan terhitung indeks ke-4 dari belakang\n",
        "\n",
        "Dan jika ingin mengakses indeks dari depan maka dapat ditulis [4] maka hasilnya akan menunjukkan indeks paling depan"
      ],
      "metadata": {
        "id": "2v-HYJnwHp6s"
      }
    },
    {
      "cell_type": "code",
      "source": [
        "bulan1 = ('Januari','Februari','Maret','April','Mei','Juni')\n",
        "bulan2 = ('Januari','Februari','Maret','April','Mei','Juni')\n",
        "print(bulan1[-4])\n",
        "print(bulan2[4])"
      ],
      "metadata": {
        "colab": {
          "base_uri": "https://localhost:8080/"
        },
        "id": "umZX_z7jHwiF",
        "outputId": "9c91c425-ded2-40d9-9b27-ff359593c7f1"
      },
      "execution_count": null,
      "outputs": [
        {
          "output_type": "stream",
          "name": "stdout",
          "text": [
            "Maret\n",
            "Mei\n"
          ]
        }
      ]
    },
    {
      "cell_type": "markdown",
      "source": [
        "Part 2 \n",
        "-Mengakses List dan Tuple\n",
        "\n",
        "Indeks juga dapat diakses dengan cara menggunakan rentangan nilai indeks yakni [4:7] maka output yang dikeluarkan indeks ke-4 sampai 7\n",
        "\n",
        "Kita bisa mengakses indeks 1 sampai 3 paling depan, maka dapat digunakan [:3]\n",
        "\n",
        "Dan kita juga bisa mengakses indeks 1 sampai 3 dari belakang dengan cara [3:]\n",
        "\n",
        "Atau kita juga bisa mengakses indeks negatif dengan syntax [-4:-1] dan output yang dihasilkan adalah indeks paling 1 sampai 3 dari belakang"
      ],
      "metadata": {
        "id": "yUGhcnaGIeLR"
      }
    },
    {
      "cell_type": "code",
      "source": [
        "bulan1 = ('Januari','Februari','Maret','April','Mei','Juni')\n",
        "bulan2 = ('Januari','Februari','Maret','April','Mei','Juni')\n",
        "bulan3 = ('Januari','Februari','Maret','April','Mei','Juni')\n",
        "bulan4 = ('Januari','Februari','Maret','April','Mei','Juni')\n",
        "print(bulan1[4:7])\n",
        "print(bulan2[:3])\n",
        "print(bulan3[3:])\n",
        "print(bulan4[-4:-1])"
      ],
      "metadata": {
        "colab": {
          "base_uri": "https://localhost:8080/"
        },
        "id": "2y7kFe7vIibu",
        "outputId": "b5352086-d9e1-4e03-b07c-d88b45474838"
      },
      "execution_count": null,
      "outputs": [
        {
          "output_type": "stream",
          "name": "stdout",
          "text": [
            "('Mei', 'Juni')\n",
            "('Januari', 'Februari', 'Maret')\n",
            "('April', 'Mei', 'Juni')\n",
            "('Maret', 'April', 'Mei')\n"
          ]
        }
      ]
    },
    {
      "cell_type": "markdown",
      "source": [
        "Penggabungan Dua atau Lebih List atau Tuple\n"
      ],
      "metadata": {
        "id": "Fwq6F0YRMn6V"
      }
    },
    {
      "cell_type": "code",
      "source": [
        "list1 = ['Gado-gado','Telur','Martabak']\n",
        "list2 = ['Es Teh','Es Jeruk','Es Campur']\n",
        "list_menu = list1 + list2\n",
        "list_menu"
      ],
      "metadata": {
        "colab": {
          "base_uri": "https://localhost:8080/"
        },
        "id": "hgQUqyOyOOnj",
        "outputId": "e969558c-69fd-4de2-e501-69313f4b06f4"
      },
      "execution_count": null,
      "outputs": [
        {
          "output_type": "execute_result",
          "data": {
            "text/plain": [
              "['Gado-gado', 'Telur', 'Martabak', 'Es Teh', 'Es Jeruk', 'Es Campur']"
            ]
          },
          "metadata": {},
          "execution_count": 31
        }
      ]
    },
    {
      "cell_type": "markdown",
      "source": [
        "# List Manipulation\n",
        "\n",
        "Part 1\n",
        "Untuk memanipulasi tipe data list, maka dapat digunakan fitur \n",
        "\n",
        "1. append() => Menambahkan Data, \n",
        "2. clear() => Menghapus seluruh elemen data,\n",
        "3. copy() => Mengembalikan copy,  \n",
        "4. count() => Mengembalikan jumlah kemunculan suatu elemen pada list,\n",
        "5. extend() => Menggabungkan dua buah list seperti penggunaan operator + untuk list\n",
        "\n"
      ],
      "metadata": {
        "id": "_lrkjI4wOoaQ"
      }
    },
    {
      "cell_type": "code",
      "source": [
        "#append\n",
        "list1 = ['Gado-gado','Telur','Martabak']\n",
        "list1.append('Ketoprak')\n",
        "print(list1)"
      ],
      "metadata": {
        "colab": {
          "base_uri": "https://localhost:8080/"
        },
        "id": "DTmx1J6jPKMV",
        "outputId": "653d5811-5ef4-47f7-c043-4d8d3477a3a6"
      },
      "execution_count": null,
      "outputs": [
        {
          "output_type": "stream",
          "name": "stdout",
          "text": [
            "['Gado-gado', 'Telur', 'Martabak', 'Ketoprak']\n"
          ]
        }
      ]
    },
    {
      "cell_type": "code",
      "source": [
        "#clear\n",
        "list1 = ['Gado-gado','Telur','Martabak']\n",
        "list1.clear()\n",
        "print(list1)"
      ],
      "metadata": {
        "colab": {
          "base_uri": "https://localhost:8080/"
        },
        "id": "DdBbw86WQiQ7",
        "outputId": "ad8af938-6871-464a-e428-d6cb4b7cb905"
      },
      "execution_count": null,
      "outputs": [
        {
          "output_type": "stream",
          "name": "stdout",
          "text": [
            "[]\n"
          ]
        }
      ]
    },
    {
      "cell_type": "code",
      "source": [
        "#copy\n",
        "list1 = ['Gado-gado','Telur','Martabak']\n",
        "makanan = list1.copy()\n",
        "makanan.append('Opor')\n",
        "print(makanan)"
      ],
      "metadata": {
        "colab": {
          "base_uri": "https://localhost:8080/"
        },
        "id": "8qZMamYiRKAy",
        "outputId": "398bb544-ca7c-4436-a5f6-23eb81cc1bae"
      },
      "execution_count": null,
      "outputs": [
        {
          "output_type": "stream",
          "name": "stdout",
          "text": [
            "['Gado-gado', 'Telur', 'Martabak', 'Opor']\n"
          ]
        }
      ]
    },
    {
      "cell_type": "code",
      "source": [
        "#count\n",
        "print(\">>> Fitur .count()\")\n",
        "list_score = ['Rachel','Maman','Rachel','Rachel','Kio','Rachel','Maman','Maman']\n",
        "score_rachel = list_score.count('Rachel')\n",
        "print(score_rachel)\n",
        "score_maman = list_score.count('Maman')\n",
        "print(score_maman)"
      ],
      "metadata": {
        "colab": {
          "base_uri": "https://localhost:8080/"
        },
        "id": "YvHDhkduR1ho",
        "outputId": "78b3c1cc-59fa-4e56-b779-10e703017ab6"
      },
      "execution_count": null,
      "outputs": [
        {
          "output_type": "stream",
          "name": "stdout",
          "text": [
            ">>> Fitur .count()\n",
            "4\n",
            "3\n"
          ]
        }
      ]
    },
    {
      "cell_type": "code",
      "source": [
        "#extend\n",
        "list1 = ['Gado-gado','Telur','Martabak']\n",
        "list2 = ['Es Teh','Es Jeruk','Es Campur']\n",
        "list1.extend(list2)\n",
        "print(list1)"
      ],
      "metadata": {
        "colab": {
          "base_uri": "https://localhost:8080/"
        },
        "id": "PTSQuzZgVG7w",
        "outputId": "f5cdaa3b-126f-4259-dd38-c24fbb3cf4b4"
      },
      "execution_count": null,
      "outputs": [
        {
          "output_type": "stream",
          "name": "stdout",
          "text": [
            "['Gado-gado', 'Telur', 'Martabak', 'Es Teh', 'Es Jeruk', 'Es Campur']\n"
          ]
        }
      ]
    },
    {
      "cell_type": "markdown",
      "source": [
        "# List Manipulation \n",
        "\n",
        "Part 2\n",
        "1. index() => Mengembalikan indeks dari element pertama yag ditemukan dari awal sebuah list\n",
        "2. insert() => Menyisipkan elemen pada indeks yang dispesifikkan\n",
        "3. pop() => Menghilangkan elemen pada posisi tertentu\n",
        "4. remove() => Menghilangkan elemen dengan nilai tertentu\n",
        "5. reserve() => Membalik urutan elemen dari sebuah list\n",
        "6. sort() => Mengurutkan elemen pada sebuah list, secara default dengan urutan dari kecil ke besaar (ascending)"
      ],
      "metadata": {
        "id": "7mHZ5TdjV4nR"
      }
    },
    {
      "cell_type": "code",
      "source": [
        "#index()\n",
        "list_score = ['Rachel', 'Maman', 'Kio' ,'Rachel','Maman']\n",
        "score_pertama = list_score.index('Kio') + 3\n",
        "print(score_pertama)"
      ],
      "metadata": {
        "colab": {
          "base_uri": "https://localhost:8080/"
        },
        "id": "_TJQaA6FXDzb",
        "outputId": "16cf9ad4-0fea-483a-d774-ec3cfc624b2e"
      },
      "execution_count": null,
      "outputs": [
        {
          "output_type": "stream",
          "name": "stdout",
          "text": [
            "5\n"
          ]
        }
      ]
    },
    {
      "cell_type": "code",
      "source": [
        "#insert()\n",
        "list_score = ['Rachel', 'Maman', 'Rachel', 'Rachel', 'Kio', 'Rachel', 'Maman', 'Maman']\n",
        "list_score.insert(3, 'Kio')\n",
        "print(list_score)"
      ],
      "metadata": {
        "colab": {
          "base_uri": "https://localhost:8080/"
        },
        "id": "g6tPtMkCbsfV",
        "outputId": "16f3b0b2-e8c4-445f-edee-3655f0ea8b0a"
      },
      "execution_count": null,
      "outputs": [
        {
          "output_type": "stream",
          "name": "stdout",
          "text": [
            "['Rachel', 'Maman', 'Rachel', 'Kio', 'Rachel', 'Kio', 'Rachel', 'Maman', 'Maman']\n"
          ]
        }
      ]
    },
    {
      "cell_type": "code",
      "source": [
        "#pop()\n",
        "list_score = ['Rachel', 'Maman', 'Rachel', 'Rachel', 'Kio', 'Rachel', 'Maman', 'Maman']\n",
        "list_score.pop(2)\n",
        "print(list_score)"
      ],
      "metadata": {
        "colab": {
          "base_uri": "https://localhost:8080/"
        },
        "id": "lqrgjU40dCj1",
        "outputId": "e9cb490b-13f6-4035-d911-e2caa4e9f2ad"
      },
      "execution_count": null,
      "outputs": [
        {
          "output_type": "stream",
          "name": "stdout",
          "text": [
            "['Rachel', 'Maman', 'Rachel', 'Kio', 'Rachel', 'Maman', 'Maman']\n"
          ]
        }
      ]
    },
    {
      "cell_type": "code",
      "source": [
        "#remove()\n",
        "list_score = ['Rachel', 'Maman', 'Rachel', 'Rachel', 'Kio', 'Rachel', 'Maman', 'Maman']\n",
        "list_score.remove('Maman')\n",
        "print(list_score)"
      ],
      "metadata": {
        "colab": {
          "base_uri": "https://localhost:8080/"
        },
        "id": "-HBK-aw0dbnb",
        "outputId": "00efcaa2-18cd-4637-ae6b-54f8bf405019"
      },
      "execution_count": null,
      "outputs": [
        {
          "output_type": "stream",
          "name": "stdout",
          "text": [
            "['Rachel', 'Rachel', 'Rachel', 'Kio', 'Rachel', 'Maman', 'Maman']\n"
          ]
        }
      ]
    },
    {
      "cell_type": "code",
      "source": [
        "#reverse\n",
        "list_score = ['Rachel', 'Maman', 'Rachel', 'Rachel', 'Kio', 'Rachel', 'Maman', 'Maman']\n",
        "list_score.reverse()\n",
        "print(list_score)"
      ],
      "metadata": {
        "colab": {
          "base_uri": "https://localhost:8080/"
        },
        "id": "Ti69kSpldxBv",
        "outputId": "c57e3a68-fb3e-4050-8ebb-4a1231b9994c"
      },
      "execution_count": null,
      "outputs": [
        {
          "output_type": "stream",
          "name": "stdout",
          "text": [
            "['Maman', 'Maman', 'Rachel', 'Kio', 'Rachel', 'Rachel', 'Maman', 'Rachel']\n"
          ]
        }
      ]
    },
    {
      "cell_type": "code",
      "source": [
        "#sort\n",
        "list_score = ['Rachel', 'Maman', 'Rachel', 'Rachel', 'Kio', 'Rachel', 'Maman', 'Maman']\n",
        "list_score.sort()\n",
        "print(list_score)\n",
        "\n",
        "list_score1 = ['Rachel', 'Maman', 'Rachel', 'Rachel', 'Kio', 'Rachel', 'Maman', 'Maman']\n",
        "list_score1.sort(reverse=True)\n",
        "print(list_score1)\n"
      ],
      "metadata": {
        "colab": {
          "base_uri": "https://localhost:8080/"
        },
        "id": "suaLc4V_elnx",
        "outputId": "126b661b-b90a-46ac-86d9-6d2a006ec14b"
      },
      "execution_count": null,
      "outputs": [
        {
          "output_type": "stream",
          "name": "stdout",
          "text": [
            "['Kio', 'Maman', 'Maman', 'Maman', 'Rachel', 'Rachel', 'Rachel', 'Rachel']\n",
            "['Rachel', 'Rachel', 'Rachel', 'Rachel', 'Maman', 'Maman', 'Maman', 'Kio']\n"
          ]
        }
      ]
    },
    {
      "cell_type": "markdown",
      "source": [
        "# Tuple Manipulation\n",
        "\n",
        "Fitur manipulasi data\n",
        "\n",
        "1. count() => Mengembalikan jumlah kemunculan suatu elemen pada suatu tuple\n",
        "2. index() => Mengembalikan index dari elemen pertama yang ditemukan dari awal sebuah tuple"
      ],
      "metadata": {
        "id": "3gXI7eu-fS5-"
      }
    },
    {
      "cell_type": "code",
      "source": [
        "#count()\n",
        "tuple_score = ('Ida','Adi','Rangga','Ida','Adi')\n",
        "score_ida = tuple_score.count('Ida')\n",
        "score_Adi = tuple_score.count('Adi')\n",
        "print(score_ida)"
      ],
      "metadata": {
        "colab": {
          "base_uri": "https://localhost:8080/"
        },
        "id": "gD3KR4Xxfiqw",
        "outputId": "41416ddb-d58e-4c5d-ccce-baaed2f40555"
      },
      "execution_count": null,
      "outputs": [
        {
          "output_type": "stream",
          "name": "stdout",
          "text": [
            "2\n"
          ]
        }
      ]
    },
    {
      "cell_type": "code",
      "source": [
        "#index()\n",
        "tuple_score = ('Ida','Adi','Rangga','Ida','Adi')\n",
        "score_pertama_tuple = tuple_score.index('Rangga') + 1\n",
        "print(score_pertama_tuple)"
      ],
      "metadata": {
        "colab": {
          "base_uri": "https://localhost:8080/"
        },
        "id": "_5_fgqeegkJK",
        "outputId": "9544a313-2aa8-4f74-ac05-7258d1a64e20"
      },
      "execution_count": null,
      "outputs": [
        {
          "output_type": "stream",
          "name": "stdout",
          "text": [
            "3\n"
          ]
        }
      ]
    },
    {
      "cell_type": "markdown",
      "source": [
        ""
      ],
      "metadata": {
        "id": "ZicEAJJag8bv"
      }
    },
    {
      "cell_type": "markdown",
      "source": [
        "# Set Manipulation\n",
        "\n",
        "Part 1 (Tipe data yang tidak mengizinkan adanya duplikasi)\n",
        "\n",
        "1. add() => Menambahkan data\n",
        "2. clear() => Menghapus seluruh elemen dataset\n",
        "3. copy() => Mengembalikan copy dari setiap elemen set\n",
        "4. update() => Menambahkan elemen dari suatu set\n",
        "5. pop() => Menghilangkan elemen dari sebuah set secara acak\n",
        "6. remove() => Menghilangan ekemen dengan nilai tertentu\n"
      ],
      "metadata": {
        "id": "zdCVky8RhB0w"
      }
    },
    {
      "cell_type": "code",
      "source": [
        "#add()\n",
        "set_buku = {'Matematika','Statistika','PKN'}\n",
        "set_buku.add('Bahasa Inggris')\n",
        "print(set_buku)"
      ],
      "metadata": {
        "colab": {
          "base_uri": "https://localhost:8080/"
        },
        "id": "Ymen91ndN7Sb",
        "outputId": "95ee45fa-49e8-4ead-e09e-b10a6eb0081c"
      },
      "execution_count": null,
      "outputs": [
        {
          "output_type": "stream",
          "name": "stdout",
          "text": [
            "{'Bahasa Inggris', 'Statistika', 'PKN', 'Matematika'}\n"
          ]
        }
      ]
    },
    {
      "cell_type": "code",
      "source": [
        "#clear()\n",
        "set_buku = {'Matematika','Statistika','PKN'}\n",
        "set_buku.clear()\n",
        "print(set_buku)"
      ],
      "metadata": {
        "colab": {
          "base_uri": "https://localhost:8080/"
        },
        "id": "hvPkQkZnOZcf",
        "outputId": "b43190f1-3bdd-4d6f-8bac-eb2ddbb7f9dc"
      },
      "execution_count": null,
      "outputs": [
        {
          "output_type": "stream",
          "name": "stdout",
          "text": [
            "set()\n"
          ]
        }
      ]
    },
    {
      "cell_type": "code",
      "source": [
        "#copy()\n",
        "set_buku = {'Matematika','Statistika','PKN'}\n",
        "set_buku2 = set_buku\n",
        "set_buku3 = set_buku.copy()\n",
        "set_buku2.add('Seni budaya')\n",
        "print(set_buku2)"
      ],
      "metadata": {
        "colab": {
          "base_uri": "https://localhost:8080/"
        },
        "id": "IHx-Jr8xOjoD",
        "outputId": "06ef877b-2839-41db-a6fd-c7c9baa2bfb5"
      },
      "execution_count": null,
      "outputs": [
        {
          "output_type": "stream",
          "name": "stdout",
          "text": [
            "{'Seni budaya', 'Statistika', 'PKN', 'Matematika'}\n"
          ]
        }
      ]
    },
    {
      "cell_type": "code",
      "source": [
        "#update()\n",
        "parcel1 = {'Anggur','Apel','Jeruk'}\n",
        "parcel2 = {'Jeruk','Mangga','Manggis'}\n",
        "parcel1.update(parcel2)\n",
        "print(parcel1)"
      ],
      "metadata": {
        "colab": {
          "base_uri": "https://localhost:8080/"
        },
        "id": "HFYuxUKeP9C2",
        "outputId": "1f6476b9-cb82-4987-98bc-ffee4d2c9924"
      },
      "execution_count": null,
      "outputs": [
        {
          "output_type": "stream",
          "name": "stdout",
          "text": [
            "{'Jeruk', 'Mangga', 'Apel', 'Manggis', 'Anggur'}\n"
          ]
        }
      ]
    },
    {
      "cell_type": "code",
      "source": [
        "#pop()\n",
        "parcel1 = {'Anggur','Apel','Jeruk'}\n",
        "buah = parcel1.pop()\n",
        "print(parcel1)"
      ],
      "metadata": {
        "colab": {
          "base_uri": "https://localhost:8080/"
        },
        "id": "Utw4555hRJeC",
        "outputId": "34f416a9-5740-48e8-fb78-4ba173296c11"
      },
      "execution_count": null,
      "outputs": [
        {
          "output_type": "stream",
          "name": "stdout",
          "text": [
            "{'Jeruk', 'Anggur'}\n"
          ]
        }
      ]
    },
    {
      "cell_type": "code",
      "source": [
        "#pop()\n",
        "parcel2 = {'Jeruk','Mangga','Manggis'}\n",
        "buah = parcel2.remove('Mangga')\n",
        "print(parcel2)"
      ],
      "metadata": {
        "colab": {
          "base_uri": "https://localhost:8080/"
        },
        "id": "ZLjniwg3RU4o",
        "outputId": "5a5c9232-e0a9-4177-9729-cb64047ac5e0"
      },
      "execution_count": null,
      "outputs": [
        {
          "output_type": "stream",
          "name": "stdout",
          "text": [
            "{'Manggis', 'Jeruk'}\n"
          ]
        }
      ]
    },
    {
      "cell_type": "markdown",
      "source": [
        "# Set Manipulation\n",
        "\n",
        "Part 2 (Tipe data yang tidak mengizinkan adanya duplikasi)\n",
        "\n",
        "1. union() => Mengembalikan hasil penggabungan (union) dari dua buah set\n",
        "2. isdisjoint() => Mengembalikan nilai kebenaran apakah suatu set disjoint (saling lepas/tidak mengandung elemen yang sama) dengan set lainnya\n",
        "3. issubset() => Mengembalikan nilai kebenaran apakah sebuah set merupakan subset dari set lainnya. Sebuah set A merupakan subset dari set B jika seluruh elemen dari set A merupakan bagian dari set B.\n",
        "4. issupersubset() => Mengembalikan nilai kebenaran apakah sebuah set merupakan superset dari set lainnya. Sebuah set A merupakan superset dari set B jika seluruh elemen dari set B terkandung dalam set A.\n",
        "5. intersection() => Mengembalikan sebuah set yang merupakan intersection dari dua set lainnya\n",
        "6. difference() => Mengembalikan sebuah set yang berisikan difference dari dua set lainnya. Difference dari sebuah set A berdasarkan set B adalah setiap elemen yang terdapat di set A tetapi tidak terdapat di set B.\n",
        "7. symentric_difference() => Mengembalikan sebuah set yang berisikan symmetric difference dari dua set lainnya. Symmetric difference dari sebuah set A dan B adalah setiap elemen dari set A yang tidak terdapat di set B digabungkan dengan (union) setiap elemen dari set B yang tidak terdapat di set A."
      ],
      "metadata": {
        "id": "FM63vMWERmz3"
      }
    },
    {
      "cell_type": "code",
      "source": [
        "#union()\n",
        "parcel3 = parcel1.union(parcel2)\n",
        "print(parcel3)"
      ],
      "metadata": {
        "colab": {
          "base_uri": "https://localhost:8080/"
        },
        "id": "DUqVondSTOxw",
        "outputId": "125c25a5-76b9-42a6-ebc5-275c77994a73"
      },
      "execution_count": null,
      "outputs": [
        {
          "output_type": "stream",
          "name": "stdout",
          "text": [
            "{'Manggis', 'Jeruk', 'Anggur'}\n"
          ]
        }
      ]
    },
    {
      "cell_type": "code",
      "source": [
        "#isdisjoint()\n",
        "buku1 = {'Romance','Thriller','Action'}\n",
        "buku2 = {'Romance','Mellow','Science','Modul'}\n",
        "buku3 = {'Romance','Mellow','Science','Modul'}\n",
        "buku_disjoint = buku2.isdisjoint(buku3)\n",
        "print(buku_disjoint)"
      ],
      "metadata": {
        "colab": {
          "base_uri": "https://localhost:8080/"
        },
        "id": "kVDKUtsoT9O4",
        "outputId": "db83a63b-e7e2-4f97-dfa0-24c7f2e9a48e"
      },
      "execution_count": null,
      "outputs": [
        {
          "output_type": "stream",
          "name": "stdout",
          "text": [
            "False\n"
          ]
        }
      ]
    },
    {
      "cell_type": "code",
      "source": [
        "#issubset()\n",
        "buku_issubset = buku2.issubset(buku3)\n",
        "print(buku_issubset)"
      ],
      "metadata": {
        "colab": {
          "base_uri": "https://localhost:8080/"
        },
        "id": "piMNEw9fUXsc",
        "outputId": "f78916fc-5390-49ec-8ca1-1708b4035110"
      },
      "execution_count": null,
      "outputs": [
        {
          "output_type": "stream",
          "name": "stdout",
          "text": [
            "True\n"
          ]
        }
      ]
    },
    {
      "cell_type": "code",
      "source": [
        "#issuperset()\n",
        "buku_issuperset = buku2.issuperset(buku3)\n",
        "print(buku_issuperset)"
      ],
      "metadata": {
        "colab": {
          "base_uri": "https://localhost:8080/"
        },
        "id": "eAwMU6YuWCGX",
        "outputId": "1ce31c19-d62b-481c-e686-9c0de967b1ad"
      },
      "execution_count": null,
      "outputs": [
        {
          "output_type": "stream",
          "name": "stdout",
          "text": [
            "True\n"
          ]
        }
      ]
    },
    {
      "cell_type": "code",
      "source": [
        "#intersection()\n",
        "buku_intersection = buku2.intersection(buku3)\n",
        "print(buku_intersection)"
      ],
      "metadata": {
        "colab": {
          "base_uri": "https://localhost:8080/"
        },
        "id": "vjAZf46tVjP_",
        "outputId": "f07242ac-929f-4744-9c0c-0152323983cb"
      },
      "execution_count": null,
      "outputs": [
        {
          "output_type": "stream",
          "name": "stdout",
          "text": [
            "{'Science', 'Mellow', 'Modul', 'Romance'}\n"
          ]
        }
      ]
    },
    {
      "cell_type": "code",
      "source": [
        "#difference()\n",
        "buku_difference = buku2.difference(buku3)\n",
        "print(buku_difference)"
      ],
      "metadata": {
        "colab": {
          "base_uri": "https://localhost:8080/"
        },
        "id": "-smJYt2cWps3",
        "outputId": "14d7a51d-1073-4e1b-c01f-b86847e52c36"
      },
      "execution_count": null,
      "outputs": [
        {
          "output_type": "stream",
          "name": "stdout",
          "text": [
            "set()\n"
          ]
        }
      ]
    },
    {
      "cell_type": "code",
      "source": [
        "#symentric_difference()\n",
        "buku_symentric_difference = buku1.symmetric_difference(buku3)\n",
        "print(buku_symentric_difference)"
      ],
      "metadata": {
        "colab": {
          "base_uri": "https://localhost:8080/"
        },
        "id": "vCiLk7tgW1yI",
        "outputId": "6694d728-6f7b-420c-d230-7d580166f218"
      },
      "execution_count": null,
      "outputs": [
        {
          "output_type": "stream",
          "name": "stdout",
          "text": [
            "{'Science', 'Action', 'Modul', 'Mellow', 'Thriller'}\n"
          ]
        }
      ]
    }
  ]
}