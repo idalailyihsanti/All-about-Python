{
  "nbformat": 4,
  "nbformat_minor": 0,
  "metadata": {
    "colab": {
      "name": "Python_Function.ipynb",
      "provenance": [],
      "authorship_tag": "ABX9TyOAzkW+L3RnU1HASC7gEDoL",
      "include_colab_link": true
    },
    "kernelspec": {
      "name": "python3",
      "display_name": "Python 3"
    },
    "language_info": {
      "name": "python"
    }
  },
  "cells": [
    {
      "cell_type": "markdown",
      "metadata": {
        "id": "view-in-github",
        "colab_type": "text"
      },
      "source": [
        "<a href=\"https://colab.research.google.com/github/idalailyihsanti/All-about-Python/blob/main/Python_Function.ipynb\" target=\"_parent\"><img src=\"https://colab.research.google.com/assets/colab-badge.svg\" alt=\"Open In Colab\"/></a>"
      ]
    },
    {
      "cell_type": "markdown",
      "source": [
        "# Tanggal dan Jam\n",
        "\n",
        "import time => Library yang dipakai"
      ],
      "metadata": {
        "id": "G8adhzNgpG0g"
      }
    },
    {
      "cell_type": "code",
      "source": [
        "import time\n",
        "ticks = time.time()\n",
        "print('Number of ticks since 12:00am, January 1, 1970:',ticks)"
      ],
      "metadata": {
        "colab": {
          "base_uri": "https://localhost:8080/"
        },
        "id": "SCkxEvcFpRgK",
        "outputId": "cb0196d5-0d96-49cf-da08-864814dd7a0d"
      },
      "execution_count": null,
      "outputs": [
        {
          "output_type": "stream",
          "name": "stdout",
          "text": [
            "Number of ticks since 12:00am, January 1, 1970: 1648607307.517671\n"
          ]
        }
      ]
    },
    {
      "cell_type": "markdown",
      "source": [
        "# Fungsi\n",
        "\n",
        "Fungsi gunanya supaya kita gak capek manggil data yang udah di kita tulis, cukup pake function aja. keyword nya **def** dan diikuti nama functionnya yang kita inginkan. dan menambahkan keyword return jika function yang kita tulis ingin mengembalikan nilai keluaran.\n",
        "\n"
      ],
      "metadata": {
        "id": "-NKnjfBlqH3n"
      }
    },
    {
      "cell_type": "code",
      "source": [
        "#hasilnya none?\n",
        "#karena tidak disertakan return pada setiap function\n",
        "def fungsi_tanpa_parameter():\n",
        "  for i in range(1,5):\n",
        "    print (\"looping ke-\", i)\n",
        "\n",
        "def fungsi_berparameter(batas_akhir):\n",
        "  for i in range(1, batas_akhir):\n",
        "    print(\"looping ke-\",i)\n",
        "\n",
        "print(\"contoh penggunaan fungsi tanpa parameter:\")\n",
        "print(\"hasil : \", fungsi_tanpa_parameter())\n",
        "\n",
        "print(\"\\n\\n\")\n",
        "\n",
        "print(\"contoh penggunaan fungsi berparameter:\")\n",
        "print(\"hasil : \", fungsi_berparameter(10))"
      ],
      "metadata": {
        "colab": {
          "base_uri": "https://localhost:8080/"
        },
        "id": "o8qYZkc4qFWM",
        "outputId": "a6409be2-9c33-4c2e-ce9b-c25773eba41d"
      },
      "execution_count": null,
      "outputs": [
        {
          "output_type": "stream",
          "name": "stdout",
          "text": [
            "contoh penggunaan fungsi tanpa parameter:\n",
            "looping ke- 1\n",
            "looping ke- 2\n",
            "looping ke- 3\n",
            "looping ke- 4\n",
            "hasil :  None\n",
            "\n",
            "\n",
            "\n",
            "contoh penggunaan fungsi berparameter:\n",
            "looping ke- 1\n",
            "looping ke- 2\n",
            "looping ke- 3\n",
            "looping ke- 4\n",
            "looping ke- 5\n",
            "looping ke- 6\n",
            "looping ke- 7\n",
            "looping ke- 8\n",
            "looping ke- 9\n",
            "hasil :  None\n"
          ]
        }
      ]
    },
    {
      "cell_type": "code",
      "source": [
        "#Function yang menggunakan nilai return\n",
        "#akan menghasilkan nilai\n",
        "def fungsi_tanpa_parameter():\n",
        "  temp = 0\n",
        "  for i in range(1,5):\n",
        "    temp = temp + i\n",
        "  return temp\n",
        "#tetapi jika functionnya tidak berparameter, maka nilai nya akan konstan\n",
        "\n",
        "def fungsi_berparameter(batas_akhir):\n",
        "  temp = 0\n",
        "  for i in range(1, batas_akhir):\n",
        "    temp = temp + i\n",
        "  return temp\n",
        "#tetapi jika functionnya berparameter, maka nilai nya akan berbeda\n",
        "\n",
        "print(\"contoh penggunaan fungsi tanpa parameter:\")\n",
        "print(\"hasil : \", fungsi_tanpa_parameter())\n",
        "print(\"hasil : \", fungsi_tanpa_parameter())\n",
        "print(\"hasil : \", fungsi_tanpa_parameter())\n",
        "\n",
        "print(\"\\n\\n\")\n",
        "\n",
        "print(\"contoh penggunaan fungsi berparameter:\")\n",
        "print(\"hasil : \", fungsi_berparameter(4))\n",
        "print(\"hasil : \", fungsi_berparameter(20))\n",
        "print(\"hasil : \", fungsi_berparameter(25))"
      ],
      "metadata": {
        "colab": {
          "base_uri": "https://localhost:8080/"
        },
        "id": "qKsUbxxF3yA3",
        "outputId": "0674c80f-390a-400b-a4ce-6036dc4be545"
      },
      "execution_count": null,
      "outputs": [
        {
          "output_type": "stream",
          "name": "stdout",
          "text": [
            "contoh penggunaan fungsi tanpa parameter:\n",
            "hasil :  10\n",
            "hasil :  10\n",
            "hasil :  10\n",
            "\n",
            "\n",
            "\n",
            "contoh penggunaan fungsi berparameter:\n",
            "hasil :  6\n",
            "hasil :  190\n",
            "hasil :  300\n"
          ]
        }
      ]
    },
    {
      "cell_type": "markdown",
      "source": [
        "Default Argument pada Python"
      ],
      "metadata": {
        "id": "jTK1JZtr6bge"
      }
    },
    {
      "cell_type": "code",
      "source": [
        "def cetak_biodata(nama, kota, umur=18):\n",
        "  print(\"Nama :\", nama)\n",
        "  print(\"Umur :\", umur)\n",
        "  print(\"Kota :\", kota)\n",
        "  return;\n",
        "\n",
        "print(\"Tanpa memakai default argument:\")\n",
        "cetak_biodata(nama=\"miki\", umur=50, kota=\"bandung\")\n",
        "\n",
        "print(\"\\n\")\n",
        "\n",
        "print(\"Memakai default argument:\")\n",
        "cetak_biodata(kota=\"bandung\", nama=\"miki\")"
      ],
      "metadata": {
        "colab": {
          "base_uri": "https://localhost:8080/"
        },
        "id": "5Pa3999T6uYi",
        "outputId": "b8047960-9fa9-461b-b741-cb8d21efad53"
      },
      "execution_count": null,
      "outputs": [
        {
          "output_type": "stream",
          "name": "stdout",
          "text": [
            "Tanpa memakai default argument:\n",
            "Nama : miki\n",
            "Umur : 50\n",
            "Kota : bandung\n",
            "\n",
            "\n",
            "Memakai default argument:\n",
            "Nama : miki\n",
            "Umur : 18\n",
            "Kota : bandung\n"
          ]
        }
      ]
    },
    {
      "cell_type": "markdown",
      "source": [
        "Variable-length Argument pada Python"
      ],
      "metadata": {
        "id": "OFrX7HaEARFw"
      }
    },
    {
      "cell_type": "code",
      "source": [
        "def cetak_perolehan_nilai(nama, twitter, *scores):\n",
        "  print(\"Nama\", nama)\n",
        "  print(\"Twitter\", twitter)\n",
        "  print(\"Score yang diperoleh\") \n",
        "  i = 1\n",
        "  for score in scores:\n",
        "    print(\"Nilai ke- %d: %d\"%(i,score))\n",
        "    i=i + 1\n",
        "  \n",
        "  return;\n",
        "\n",
        "print(\"jadi :\")\n",
        "cetak_perolehan_nilai(\"Ida Laily\",\"@ida\", 90,80,68)"
      ],
      "metadata": {
        "id": "-0pIuLg7AWJt",
        "colab": {
          "base_uri": "https://localhost:8080/",
          "height": 0
        },
        "outputId": "534e8930-c99b-4150-fc1e-506f13967425"
      },
      "execution_count": 3,
      "outputs": [
        {
          "output_type": "stream",
          "name": "stdout",
          "text": [
            "jadi :\n",
            "Nama Ida Laily\n",
            "Twitter @ida\n",
            "Score yang diperoleh\n",
            "Nilai ke- 1: 90\n",
            "Nilai ke- 2: 80\n",
            "Nilai ke- 3: 68\n"
          ]
        }
      ]
    },
    {
      "cell_type": "markdown",
      "source": [
        "Keyword Argument pada Function"
      ],
      "metadata": {
        "id": "ksq5ypuIPHTF"
      }
    },
    {
      "cell_type": "code",
      "source": [
        "def cetak_biodata(nama, umur, kota):\n",
        "  print(\"Nama : \", nama)\n",
        "  print(\"Umur : \", umur)\n",
        "  print(\"Kota : \", kota)\n",
        "  return;\n",
        "\n",
        "print(\"Tanpa memakai keyword argument :\")\n",
        "cetak_biodata(kota=\"bandung\", nama=\"ida laily\", umur=50)\n",
        "\n",
        "print(\"\\n\")\n",
        "\n",
        "print(\"Memakai keyword argument :\")\n",
        "cetak_biodata(\"bandung\", \"ida laily\",50)\n",
        "\n",
        "print(\"\\n\")\n",
        "\n",
        "print(\"Tanpa keyword argument : tapi urutannya sesuai\")\n",
        "cetak_biodata(\"ida laily\",\"bandung\",50)\n"
      ],
      "metadata": {
        "colab": {
          "base_uri": "https://localhost:8080/",
          "height": 0
        },
        "id": "NAx65-X7PL7D",
        "outputId": "30c52d0b-7144-4db6-d78d-8550b60aa7bb"
      },
      "execution_count": 6,
      "outputs": [
        {
          "output_type": "stream",
          "name": "stdout",
          "text": [
            "Tanpa memakai keyword argument :\n",
            "Nama :  ida laily\n",
            "Umur :  50\n",
            "Kota :  bandung\n",
            "\n",
            "\n",
            "Memakai keyword argument :\n",
            "Nama :  bandung\n",
            "Umur :  ida laily\n",
            "Kota :  50\n",
            "\n",
            "\n",
            "Tanpa keyword argument : tapi urutannya sesuai\n",
            "Nama :  ida laily\n",
            "Umur :  bandung\n",
            "Kota :  50\n"
          ]
        }
      ]
    },
    {
      "cell_type": "markdown",
      "source": [
        "Keyword-length Argument pada Function"
      ],
      "metadata": {
        "id": "Fo_JfLR5RmmO"
      }
    },
    {
      "cell_type": "code",
      "source": [
        "def cetak_perolehan_nilai(nama, twitter, **data_tambahan):\n",
        "  print(\"Nama :\", nama)\n",
        "  print(\"Twitter :\", twitter)\n",
        "  print(\"\\n\")\n",
        "  print(\"Data Lainnya :\")\n",
        "  i = 1\n",
        "  for data in data_tambahan:\n",
        "    print(\"%s: %s\"%(data, data_tambahan[data]))\n",
        "  return;\n",
        "\n",
        "print(\"Dengan adanya keyword argument tersisa maka akan menjadi dictionary\")\n",
        "cetak_perolehan_nilai(\"Ida\",\"@idalaily\",email=\"idalaily1199@gmail.com\",\n",
        "                      facebook=\"www.facebook\", telp='0819-xxx-xxxx')"
      ],
      "metadata": {
        "colab": {
          "base_uri": "https://localhost:8080/",
          "height": 0
        },
        "id": "DpQYD1HMRrZN",
        "outputId": "fff6106e-4cc0-496d-c136-102f53142347"
      },
      "execution_count": 8,
      "outputs": [
        {
          "output_type": "stream",
          "name": "stdout",
          "text": [
            "Dengan adanya keyword argument tersisa maka akan menjadi dictionary\n",
            "Nama : Ida\n",
            "Twitter : @idalaily\n",
            "\n",
            "\n",
            "Data Lainnya :\n",
            "email: idalaily1199@gmail.com\n",
            "facebook: www.facebook\n",
            "telp: 0819-xxx-xxxx\n"
          ]
        }
      ]
    },
    {
      "cell_type": "markdown",
      "source": [
        "Pass by Reference dan Pass by Value pada Python"
      ],
      "metadata": {
        "id": "yifBW4RtTRbZ"
      }
    },
    {
      "cell_type": "code",
      "source": [
        "def sebuah_fungsi(sebuah_list):\n",
        "  ini_list = [1,2,3,4,5]\n",
        "  print(\"sebuah_list\")\n",
        "\n",
        "def sebuah_fungsi_lainnya(sebuah_list):\n",
        "  ini_list.append([1,2,3,4,5])\n",
        "  print(\"sebuah_list\")\n",
        "\n",
        "ini_list = [10,20,30]\n",
        "sebuah_list = [100, 200, 300]\n",
        "\n",
        "print(\"apakah ini_list2 akan berubah?\")\n",
        "print(ini_list)\n",
        "sebuah_fungsi(ini_list)\n",
        "#print(ini_list2)\n",
        "sebuah_fungsi_lainnya(ini_list)\n",
        "print(ini_list)\n",
        "\n",
        "print(\"apakah sebuah_list akan berubah?\")\n",
        "print(sebuah_list)\n",
        "sebuah_fungsi(sebuah_list)\n",
        "#print(ini_list2)\n",
        "sebuah_fungsi_lainnya(sebuah_list)\n",
        "print(sebuah_list)\n"
      ],
      "metadata": {
        "colab": {
          "base_uri": "https://localhost:8080/",
          "height": 0
        },
        "id": "akeU5UE7TXpV",
        "outputId": "38530aa0-f438-4ae8-ef88-b5996649db41"
      },
      "execution_count": 13,
      "outputs": [
        {
          "output_type": "stream",
          "name": "stdout",
          "text": [
            "apakah ini_list2 akan berubah?\n",
            "[10, 20, 30]\n",
            "sebuah_list\n",
            "sebuah_list\n",
            "[10, 20, 30, [1, 2, 3, 4, 5]]\n",
            "apakah sebuah_list akan berubah?\n",
            "[100, 200, 300]\n",
            "sebuah_list\n",
            "sebuah_list\n",
            "[100, 200, 300]\n"
          ]
        }
      ]
    },
    {
      "cell_type": "markdown",
      "source": [
        "Variable Scope pada Python"
      ],
      "metadata": {
        "id": "GQ3Ts_fWdzvE"
      }
    },
    {
      "cell_type": "code",
      "source": [
        "def sebuah_fungsi():\n",
        "  angka=10\n",
        "  print(\"di dalam fungsi, angka bernilai :\", angka)\n",
        "\n",
        "def sebuah_fungsi_lainnya():\n",
        "  global angka\n",
        "  angka = 114\n",
        "  print(\"di dalam fungsi, angka bernilai :\", angka)\n",
        "\n",
        "angka = 6666\n",
        "\n",
        "print(\"sebelum dipanggil sebuah_fungsi :\", angka)\n",
        "sebuah_fungsi()\n",
        "print(\"sesudah dipanggil sebuah_fungsi :\", angka)\n",
        "\n",
        "print(\"\\n\\n\")\n",
        "\n",
        "print(\"sebelum dipanggil sebuah_fungsi :\", angka)\n",
        "sebuah_fungsi_lainnya()\n",
        "print(\"sesudah dipanggil sebuah_fungsi :\", angka)\n"
      ],
      "metadata": {
        "colab": {
          "base_uri": "https://localhost:8080/",
          "height": 0
        },
        "id": "kQRPC22jd2Jl",
        "outputId": "26700343-7e5e-45e2-cd9e-5bc9fcc7e5ff"
      },
      "execution_count": 14,
      "outputs": [
        {
          "output_type": "stream",
          "name": "stdout",
          "text": [
            "sebelum dipanggil sebuah_fungsi : 6666\n",
            "di dalam fungsi, angka bernilai : 10\n",
            "sesudah dipanggil sebuah_fungsi : 6666\n",
            "\n",
            "\n",
            "\n",
            "sebelum dipanggil sebuah_fungsi : 6666\n",
            "di dalam fungsi, angka bernilai : 114\n",
            "sesudah dipanggil sebuah_fungsi : 114\n"
          ]
        }
      ]
    }
  ]
}