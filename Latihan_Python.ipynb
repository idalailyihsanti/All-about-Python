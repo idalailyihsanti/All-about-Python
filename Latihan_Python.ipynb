{
  "nbformat": 4,
  "nbformat_minor": 0,
  "metadata": {
    "colab": {
      "name": "Latihan Python.ipynb",
      "provenance": [],
      "authorship_tag": "ABX9TyNgz3TgN1cy3M5Cs8wDhjFo",
      "include_colab_link": true
    },
    "kernelspec": {
      "name": "python3",
      "display_name": "Python 3"
    },
    "language_info": {
      "name": "python"
    }
  },
  "cells": [
    {
      "cell_type": "markdown",
      "metadata": {
        "id": "view-in-github",
        "colab_type": "text"
      },
      "source": [
        "<a href=\"https://colab.research.google.com/github/idalailyihsanti/All-about-Python/blob/main/Latihan_Python.ipynb\" target=\"_parent\"><img src=\"https://colab.research.google.com/assets/colab-badge.svg\" alt=\"Open In Colab\"/></a>"
      ]
    },
    {
      "cell_type": "markdown",
      "source": [
        "Tipe Data Dasar : Null, Boolean, dan Text\n",
        "\n",
        "Part 1\n",
        "Sequence Type (List dan Tuple)\n",
        "Contoh dari List dan Tuple"
      ],
      "metadata": {
        "id": "L_xZZi9_DSuC"
      }
    },
    {
      "cell_type": "code",
      "source": [
        "#List\n",
        "list = [6,'tujuh',8,9,10]\n",
        "list[4]\n",
        "#List bisa dirubah\n",
        "list[3] = 'tiga'\n",
        "list"
      ],
      "metadata": {
        "colab": {
          "base_uri": "https://localhost:8080/"
        },
        "id": "pBymynFMDWfh",
        "outputId": "7592e8da-522e-4c74-a3b6-cbc91cfb9055"
      },
      "execution_count": null,
      "outputs": [
        {
          "output_type": "execute_result",
          "data": {
            "text/plain": [
              "[6, 'tujuh', 8, 'tiga', 10]"
            ]
          },
          "metadata": {},
          "execution_count": 7
        }
      ]
    },
    {
      "cell_type": "code",
      "source": [
        "#Tuple\n",
        "tuple = ('Juni','Juli','Agustus','September')\n",
        "tuple\n",
        "#Tuple tidak bisa dirubah\n",
        "#tuple[2]='Mei'"
      ],
      "metadata": {
        "colab": {
          "base_uri": "https://localhost:8080/"
        },
        "id": "U8IsnK0VmUb5",
        "outputId": "4dff7667-fa58-490d-bf3e-ee13e4ede1d1"
      },
      "execution_count": null,
      "outputs": [
        {
          "output_type": "execute_result",
          "data": {
            "text/plain": [
              "('Juni', 'Juli', 'Agustus', 'September')"
            ]
          },
          "metadata": {},
          "execution_count": 10
        }
      ]
    },
    {
      "cell_type": "markdown",
      "source": [
        "Part 2\n",
        "Set Type (dengan bentuk {})\n",
        "\n",
        "Tidak mengizinkan adanya duplikasi data dan tidak menghiraukan adanya urutan"
      ],
      "metadata": {
        "id": "v3lZmk7BmtPt"
      }
    },
    {
      "cell_type": "code",
      "source": [
        "set = {'Ida','Laily','Ihsanti','Bisa','Ida'}\n",
        "set"
      ],
      "metadata": {
        "colab": {
          "base_uri": "https://localhost:8080/"
        },
        "id": "04MvYWzKmrQM",
        "outputId": "378ba985-ea00-4fe6-b52f-fbbf148b8360"
      },
      "execution_count": null,
      "outputs": [
        {
          "output_type": "execute_result",
          "data": {
            "text/plain": [
              "{'Bisa', 'Ida', 'Ihsanti', 'Laily'}"
            ]
          },
          "metadata": {},
          "execution_count": 11
        }
      ]
    },
    {
      "cell_type": "code",
      "source": [
        "frozenset = ({'Ida','Laily','Ihsanti','Bisa','Ida'})\n",
        "frozenset"
      ],
      "metadata": {
        "colab": {
          "base_uri": "https://localhost:8080/"
        },
        "id": "UgD5tg8Cn-e4",
        "outputId": "eb223a23-5e43-4b79-dd7b-42c8d7382df0"
      },
      "execution_count": null,
      "outputs": [
        {
          "output_type": "execute_result",
          "data": {
            "text/plain": [
              "{'Bisa', 'Ida', 'Ihsanti', 'Laily'}"
            ]
          },
          "metadata": {},
          "execution_count": 12
        }
      ]
    },
    {
      "cell_type": "markdown",
      "source": [
        "Part 3 Mapping Type\n",
        "\n",
        "Mapping Type atau bisa disebut dengan Dictionary. (dengan bentuk {} dan pemisah :)"
      ],
      "metadata": {
        "id": "MOex6mnKolAf"
      }
    },
    {
      "cell_type": "code",
      "source": [
        "mapping_type = {'nama':'Ida Laily Ihsanti','Pekerjaan':'Data Analyst'}\n",
        "mapping_type1 = {'nama':'Baju Niko','Harga':'150000'}\n",
        "mapping_type\n",
        "mapping_type['nama']"
      ],
      "metadata": {
        "colab": {
          "base_uri": "https://localhost:8080/",
          "height": 35
        },
        "id": "nRf5zasxpBsD",
        "outputId": "82907854-1acc-4406-bf8e-0b1cfb42d84b"
      },
      "execution_count": null,
      "outputs": [
        {
          "output_type": "execute_result",
          "data": {
            "text/plain": [
              "'Ida Laily Ihsanti'"
            ],
            "application/vnd.google.colaboratory.intrinsic+json": {
              "type": "string"
            }
          },
          "metadata": {},
          "execution_count": 20
        }
      ]
    },
    {
      "cell_type": "code",
      "source": [
        "sepatu = {'Nama':'Sepatu Niko','Harga':150000,'Diskon':30000}\n",
        "baju = {'Nama':'Baju Unikloh','Harga':80000,'Diskon':8000}\n",
        "celana = {'Nama':'Celana Levis','Harga':200000,'Diskon':60000}\n",
        "\n",
        "harga_sepatu = sepatu['Harga']-sepatu['Diskon']\n",
        "harga_sepatu"
      ],
      "metadata": {
        "colab": {
          "base_uri": "https://localhost:8080/"
        },
        "id": "Ece1K0_6qTWG",
        "outputId": "c9659d55-e584-4888-bb52-80fda90f6e34"
      },
      "execution_count": null,
      "outputs": [
        {
          "output_type": "execute_result",
          "data": {
            "text/plain": [
              "120000"
            ]
          },
          "metadata": {},
          "execution_count": 23
        }
      ]
    },
    {
      "cell_type": "markdown",
      "source": [
        "Operator-operator dalam Python\n",
        "\n",
        "1. Arithmetic Operator (+,-,*,/,%,**,//)\n",
        "2. Assignment Operator (+=,-=,*=,/=,%=,**=,//=)\n",
        "3. Comparison Operator (==,!=,>,<,>=,<=)\n",
        "4. Logical Operator (And,Or,Not)\n",
        "5. Identity Operator (is,is not)\n",
        "6. Membership Operator (In, not in,)"
      ],
      "metadata": {
        "id": "IPn6g0MyrJn-"
      }
    },
    {
      "cell_type": "code",
      "source": [
        "#contoh dari Identity Operator\n",
        "x = 10\n",
        "print(type(x) is int)\n",
        "\n",
        "a = [\"Ani\",\"Budi\"]\n",
        "b = [\"Ani\",\"Budi\"]\n",
        "c = x\n",
        "print(c is x)\n",
        "print(c is not b)"
      ],
      "metadata": {
        "colab": {
          "base_uri": "https://localhost:8080/"
        },
        "id": "WxN3bth8tnld",
        "outputId": "20bebc9c-cb0d-42db-8724-7757c51feaa4"
      },
      "execution_count": null,
      "outputs": [
        {
          "output_type": "stream",
          "name": "stdout",
          "text": [
            "True\n",
            "True\n",
            "True\n"
          ]
        }
      ]
    },
    {
      "cell_type": "code",
      "source": [
        "#contoh membership operator\n",
        "x = (\"Ani\",'Budi')\n",
        "y = \"Ani\"\n",
        "z = \"Budi\"\n",
        "\n",
        "print(z in x)\n",
        "print(z not in x)"
      ],
      "metadata": {
        "colab": {
          "base_uri": "https://localhost:8080/"
        },
        "id": "yF7X0mBJurCo",
        "outputId": "b6678525-1376-4cc4-fe00-4f84d8882c4c"
      },
      "execution_count": null,
      "outputs": [
        {
          "output_type": "stream",
          "name": "stdout",
          "text": [
            "True\n",
            "False\n"
          ]
        }
      ]
    },
    {
      "cell_type": "markdown",
      "source": [
        "Nilai Prioritas Operator dalam Python\n",
        "Part 1\n"
      ],
      "metadata": {
        "id": "onOsBmU0wnER"
      }
    },
    {
      "cell_type": "code",
      "source": [
        "#contoh operasi\n",
        "total_harga = 200000\n",
        "potongan_harga = 0.5\n",
        "pajak = 0.1\n",
        "harga_bayar = 1 - 0.5\n",
        "harga_bayar *= total_harga\n",
        "pajak_bayar = pajak * harga_bayar\n",
        "harga_bayar += pajak_bayar\n",
        "harga_bayar"
      ],
      "metadata": {
        "colab": {
          "base_uri": "https://localhost:8080/"
        },
        "id": "6D_BRmrmvd_F",
        "outputId": "5a2754a6-55fb-4e69-84d6-02ec1ca7c7ad"
      },
      "execution_count": null,
      "outputs": [
        {
          "output_type": "execute_result",
          "data": {
            "text/plain": [
              "110000.0"
            ]
          },
          "metadata": {},
          "execution_count": 36
        }
      ]
    },
    {
      "cell_type": "code",
      "source": [
        "#contoh lebih simple\n",
        "total_harga = 200000\n",
        "potongan_harga = 0.5\n",
        "pajak = 0.1\n",
        "harga_bayar = (1 - 0.5) * total_harga\n",
        "harga_bayar += harga_bayar * pajak\n",
        "harga_bayar"
      ],
      "metadata": {
        "colab": {
          "base_uri": "https://localhost:8080/"
        },
        "id": "dwepk8LEwfL6",
        "outputId": "bd5fe2e2-9017-4f2b-fdcb-70afbf8d5373"
      },
      "execution_count": null,
      "outputs": [
        {
          "output_type": "execute_result",
          "data": {
            "text/plain": [
              "110000.0"
            ]
          },
          "metadata": {},
          "execution_count": 37
        }
      ]
    },
    {
      "cell_type": "markdown",
      "source": [
        "Nilai Prioritas Operator dalam Python\n",
        "Part 2\n",
        "\n",
        "1. () =\t10 =\tKiri ke kanan\n",
        "2. x[index] =\t9 =\tKiri ke kanan\n",
        "3. ** =\t8 =\tKanan ke kiri\n",
        "4. '+x' & '-x' =\t7 =\tKiri ke kanan\n",
        "5. *,/,% =\t6 =\tKiri ke kanan\n",
        "6. +,- =\t5 =\tKiri ke kanan\n",
        "7. is, is not, in, not in\n",
        "<=, <, >=, >\n",
        "==, !=\t = 4 =\tKiri ke kanan\n",
        "8. Not = 3 = Kiri ke kanan\n",
        "9. And = 2 = Kiri ke kanan\n",
        "10. Or = 1 = Kiri ke kanan\n",
        "\n"
      ],
      "metadata": {
        "id": "3blKpzmAxaq3"
      }
    },
    {
      "cell_type": "markdown",
      "source": [
        "Python Conditioning for Decision\n",
        "\n",
        "x = 4\n",
        "if x % 2 == 0:\n",
        "  print(\"X habis dibagi dua\")\n",
        "\n",
        "\n",
        "jam = 17\n",
        "if jam >= 5 and jam < 12:\n",
        "  print(\"Selamat Pagi, anda harus membayar tagihan sebesar:\")\n",
        "elif jam >= 12 and jam < 17:\n",
        "  print(\"Selamat siang, anda harus membayar tagihan sebesar:\")\n",
        "elif jam >= 17 and jam <19:\n",
        "  print(\"Selamat Sore, anda harus membayar tagihan sebesar:\")\n",
        "else:\n",
        "  print(\"Selamat Malam, anda harus membayar tagihan sebesar:\")\n",
        "\n",
        "\n"
      ],
      "metadata": {
        "id": "Zd9Tt_pS8wvG"
      }
    },
    {
      "cell_type": "code",
      "source": [
        "tagihan_ke = 'Mr. Yoyo'\n",
        "warehousing = {'harga_harian': 1000000, 'total_hari' : 15}\n",
        "cleansing = {'harga_harian': 1500000, 'total_hari' : 10}\n",
        "integration = {'harga_harian': 1000000, 'total_hari' : 15}\n",
        "transform = {'harga_harian': 1000000, 'total_hari' : 15}\n",
        "sub_warehousing = warehousing['harga_harian']* warehousing['total_hari']\n",
        "sub_cleansing = cleansing['harga_harian'] * cleansing['total_hari']\n",
        "sub_integration = integration['harga_harian'] * integration['total_hari']\n",
        "sub_transform = transform['harga_harian'] * transform['total_hari']\n",
        "total_harga = sub_warehousing + sub_cleansing + sub_integration + sub_transform\n",
        "print(\"Tagihan kepada:\")\n",
        "print(tagihan_ke)\n",
        "jam = 17\n",
        "if jam >= 5 and jam < 12:\n",
        "  print(\"Selamat Pagi, anda harus membayar tagihan sebesar:\")\n",
        "elif jam >= 12 and jam < 17:\n",
        "  print(\"Selamat siang, anda harus membayar tagihan sebesar:\")\n",
        "elif jam >= 17 and jam <19:\n",
        "  print(\"Selamat Sore, anda harus membayar tagihan sebesar:\")\n",
        "else:\n",
        "  print(\"Selamat Malam, anda harus membayar tagihan sebesar:\")\n",
        "print(total_harga)"
      ],
      "metadata": {
        "colab": {
          "base_uri": "https://localhost:8080/"
        },
        "id": "gmf4ji4Lylty",
        "outputId": "dd466b01-0037-4f02-8a0a-9b1cf587eda9"
      },
      "execution_count": null,
      "outputs": [
        {
          "output_type": "stream",
          "name": "stdout",
          "text": [
            "Tagihan kepada:\n",
            "Mr. Yoyo\n",
            "Selamat Sore, anda harus membayar tagihan sebesar:\n",
            "60000000\n"
          ]
        }
      ]
    },
    {
      "cell_type": "markdown",
      "source": [
        "Pythron Primitive Loop Control\n",
        "\n",
        "Part 1"
      ],
      "metadata": {
        "id": "zEGY6wPctl7L"
      }
    },
    {
      "cell_type": "code",
      "source": [
        "tagihan = [50000,75000,125000,300000,200000]\n",
        "#total_tagihan = tagihan[0] + tagihan[1] + tagihan[2] + tagihan[3]\n",
        "#print(total_tagihan)\n",
        "\n",
        "i=8\n",
        "jumlah_tagihan = len(tagihan)\n",
        "total_tagihan = 0\n",
        "while i < jumlah_tagihan:\n",
        "  total_tagihan += tagihan[i]\n",
        "  i+= 1\n",
        "print(total_tagihan)"
      ],
      "metadata": {
        "colab": {
          "base_uri": "https://localhost:8080/"
        },
        "id": "FgAgWFmP9cfU",
        "outputId": "bcf78498-8dff-406f-b685-6628e5423f44"
      },
      "execution_count": null,
      "outputs": [
        {
          "output_type": "stream",
          "name": "stdout",
          "text": [
            "0\n"
          ]
        }
      ]
    },
    {
      "cell_type": "markdown",
      "source": [
        "Python Primitive Loop Control\n",
        "\n",
        "Part 2"
      ],
      "metadata": {
        "id": "hkdrsdPIAdzP"
      }
    },
    {
      "cell_type": "code",
      "source": [
        "tagihan = [50000,75000,125000,300000,200000]\n",
        "#total_tagihan = tagihan[0] + tagihan[1] + tagihan[2] + tagihan[3]\n",
        "#print(total_tagihan)\n",
        "\n",
        "i=0\n",
        "jumlah_tagihan = len(tagihan)\n",
        "total_tagihan = 0\n",
        "while i < jumlah_tagihan:\n",
        "  if tagihan[i] < 0:\n",
        "    total_tagihan = -1\n",
        "    print(\"Terdapat angka minus dalam tagihan, perhitungan dihentikan\")\n",
        "    break\n",
        "  total_tagihan += tagihan[i]\n",
        "  i+= 1\n",
        "print(total_tagihan)"
      ],
      "metadata": {
        "colab": {
          "base_uri": "https://localhost:8080/"
        },
        "id": "yaXBb8BSAjk-",
        "outputId": "9d6dc2b5-23dd-488b-84bb-a590cb332aea"
      },
      "execution_count": null,
      "outputs": [
        {
          "output_type": "stream",
          "name": "stdout",
          "text": [
            "750000\n"
          ]
        }
      ]
    }
  ]
}